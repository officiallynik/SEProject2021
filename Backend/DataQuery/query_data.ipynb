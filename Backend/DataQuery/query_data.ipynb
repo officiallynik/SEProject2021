{
  "nbformat": 4,
  "nbformat_minor": 0,
  "metadata": {
    "colab": {
      "name": "query_data.ipynb",
      "provenance": [],
      "collapsed_sections": [],
      "toc_visible": true
    },
    "kernelspec": {
      "display_name": "Python 3",
      "name": "python3"
    }
  },
  "cells": [
    {
      "cell_type": "markdown",
      "metadata": {
        "id": "huS2DfoVjSd-"
      },
      "source": [
        "# Stack Overflow Python Questions/Answers Building "
      ]
    },
    {
      "cell_type": "markdown",
      "metadata": {
        "id": "Sds9uk9-jisY"
      },
      "source": [
        "## Import and check total dataset"
      ]
    },
    {
      "cell_type": "code",
      "metadata": {
        "id": "TRma7BNR0iyf"
      },
      "source": [
        "from google.cloud import bigquery"
      ],
      "execution_count": 1,
      "outputs": []
    },
    {
      "cell_type": "code",
      "metadata": {
        "id": "iuJEc2Im0xBp"
      },
      "source": [
        "import os\r\n",
        "os.environ[\"GOOGLE_APPLICATION_CREDENTIALS\"]=\"config.json\""
      ],
      "execution_count": 2,
      "outputs": []
    },
    {
      "cell_type": "code",
      "metadata": {
        "id": "T7ubnTwv4NDJ"
      },
      "source": [
        "client = bigquery.Client()"
      ],
      "execution_count": 3,
      "outputs": []
    },
    {
      "cell_type": "code",
      "metadata": {
        "id": "-fOnuXtI4rY1"
      },
      "source": [
        "dataset_ref = client.dataset('stackoverflow', project='bigquery-public-data')"
      ],
      "execution_count": 4,
      "outputs": []
    },
    {
      "cell_type": "code",
      "metadata": {
        "colab": {
          "base_uri": "https://localhost:8080/"
        },
        "id": "MqVycibz41-g",
        "outputId": "3cc8b7c8-a0e7-441d-a9e5-61bf9dbe3aed"
      },
      "source": [
        "type(dataset_ref)"
      ],
      "execution_count": 5,
      "outputs": [
        {
          "output_type": "execute_result",
          "data": {
            "text/plain": [
              "google.cloud.bigquery.dataset.DatasetReference"
            ]
          },
          "metadata": {
            "tags": []
          },
          "execution_count": 5
        }
      ]
    },
    {
      "cell_type": "code",
      "metadata": {
        "id": "cHitI4LS49Hn"
      },
      "source": [
        "dset = client.get_dataset(dataset_ref)"
      ],
      "execution_count": 6,
      "outputs": []
    },
    {
      "cell_type": "code",
      "metadata": {
        "colab": {
          "base_uri": "https://localhost:8080/"
        },
        "id": "70v4msyV5Cua",
        "outputId": "b6ef47e2-29fe-4a12-e378-c494f90cb0dd"
      },
      "source": [
        "type(dset)"
      ],
      "execution_count": 7,
      "outputs": [
        {
          "output_type": "execute_result",
          "data": {
            "text/plain": [
              "google.cloud.bigquery.dataset.Dataset"
            ]
          },
          "metadata": {
            "tags": []
          },
          "execution_count": 7
        }
      ]
    },
    {
      "cell_type": "code",
      "metadata": {
        "colab": {
          "base_uri": "https://localhost:8080/"
        },
        "id": "fDtLssAO5pEZ",
        "outputId": "fb2107dd-39bc-4eec-e1b8-193b1c146035"
      },
      "source": [
        "[x.table_id for x in client.list_tables(dset)]"
      ],
      "execution_count": 8,
      "outputs": [
        {
          "output_type": "execute_result",
          "data": {
            "text/plain": [
              "['badges',\n",
              " 'comments',\n",
              " 'post_history',\n",
              " 'post_links',\n",
              " 'posts_answers',\n",
              " 'posts_moderator_nomination',\n",
              " 'posts_orphaned_tag_wiki',\n",
              " 'posts_privilege_wiki',\n",
              " 'posts_questions',\n",
              " 'posts_tag_wiki',\n",
              " 'posts_tag_wiki_excerpt',\n",
              " 'posts_wiki_placeholder',\n",
              " 'stackoverflow_posts',\n",
              " 'tags',\n",
              " 'users',\n",
              " 'votes']"
            ]
          },
          "metadata": {
            "tags": []
          },
          "execution_count": 8
        }
      ]
    },
    {
      "cell_type": "code",
      "metadata": {
        "id": "AL-5aDFj5uJi"
      },
      "source": [
        "full_questions = client.get_table(dset.table('posts_questions'))"
      ],
      "execution_count": 9,
      "outputs": []
    },
    {
      "cell_type": "code",
      "metadata": {
        "id": "LvqccpWy66m3"
      },
      "source": [
        "full_answers = client.get_table(dset.table('posts_answers'))"
      ],
      "execution_count": 10,
      "outputs": []
    },
    {
      "cell_type": "markdown",
      "metadata": {
        "id": "xWZP_PLBjup3"
      },
      "source": [
        "## Building questions dataset"
      ]
    },
    {
      "cell_type": "code",
      "metadata": {
        "colab": {
          "base_uri": "https://localhost:8080/"
        },
        "id": "0z1g5Wm_-uaX",
        "outputId": "10e3b6ea-423c-4994-b791-56913b82b4ec"
      },
      "source": [
        "full_questions.schema"
      ],
      "execution_count": 11,
      "outputs": [
        {
          "output_type": "execute_result",
          "data": {
            "text/plain": [
              "[SchemaField('id', 'INTEGER', 'NULLABLE', None, ()),\n",
              " SchemaField('title', 'STRING', 'NULLABLE', None, ()),\n",
              " SchemaField('body', 'STRING', 'NULLABLE', None, ()),\n",
              " SchemaField('accepted_answer_id', 'INTEGER', 'NULLABLE', None, ()),\n",
              " SchemaField('answer_count', 'INTEGER', 'NULLABLE', None, ()),\n",
              " SchemaField('comment_count', 'INTEGER', 'NULLABLE', None, ()),\n",
              " SchemaField('community_owned_date', 'TIMESTAMP', 'NULLABLE', None, ()),\n",
              " SchemaField('creation_date', 'TIMESTAMP', 'NULLABLE', None, ()),\n",
              " SchemaField('favorite_count', 'INTEGER', 'NULLABLE', None, ()),\n",
              " SchemaField('last_activity_date', 'TIMESTAMP', 'NULLABLE', None, ()),\n",
              " SchemaField('last_edit_date', 'TIMESTAMP', 'NULLABLE', None, ()),\n",
              " SchemaField('last_editor_display_name', 'STRING', 'NULLABLE', None, ()),\n",
              " SchemaField('last_editor_user_id', 'INTEGER', 'NULLABLE', None, ()),\n",
              " SchemaField('owner_display_name', 'STRING', 'NULLABLE', None, ()),\n",
              " SchemaField('owner_user_id', 'INTEGER', 'NULLABLE', None, ()),\n",
              " SchemaField('parent_id', 'STRING', 'NULLABLE', None, ()),\n",
              " SchemaField('post_type_id', 'INTEGER', 'NULLABLE', None, ()),\n",
              " SchemaField('score', 'INTEGER', 'NULLABLE', None, ()),\n",
              " SchemaField('tags', 'STRING', 'NULLABLE', None, ()),\n",
              " SchemaField('view_count', 'INTEGER', 'NULLABLE', None, ())]"
            ]
          },
          "metadata": {
            "tags": []
          },
          "execution_count": 11
        }
      ]
    },
    {
      "cell_type": "code",
      "metadata": {
        "id": "i_k1K1-o9hop"
      },
      "source": [
        "QUERY_QUESTIONS = \"\"\"\r\n",
        "SELECT \r\n",
        "  q.id, \r\n",
        "  q.title, \r\n",
        "  q.body, \r\n",
        "  q.tags,\r\n",
        "  q.score,\r\n",
        "  q.accepted_answer_id,\r\n",
        "  q.answer_count\r\n",
        "FROM `bigquery-public-data.stackoverflow.posts_questions` AS q  \r\n",
        "WHERE q.tags LIKE '%python%'\r\n",
        "ORDER BY q.answer_count DESC\r\n",
        "LIMIT 300000\r\n",
        "\"\"\"\r\n",
        "\r\n",
        "data_query = client.query(QUERY_QUESTIONS)\r\n",
        "rows = data_query.result()"
      ],
      "execution_count": 12,
      "outputs": []
    },
    {
      "cell_type": "code",
      "metadata": {
        "id": "ZPEN-guLZZQ-",
        "colab": {
          "base_uri": "https://localhost:8080/"
        },
        "outputId": "1b48322a-a954-40fb-b618-7f6c3366984e"
      },
      "source": [
        "! rm questions_data.csv answers_data.csv"
      ],
      "execution_count": 13,
      "outputs": [
        {
          "output_type": "stream",
          "text": [
            "rm: cannot remove 'questions_data.csv': No such file or directory\n",
            "rm: cannot remove 'answers_data.csv': No such file or directory\n"
          ],
          "name": "stdout"
        }
      ]
    },
    {
      "cell_type": "code",
      "metadata": {
        "id": "REv7kHrhBriL"
      },
      "source": [
        "import csv"
      ],
      "execution_count": 14,
      "outputs": []
    },
    {
      "cell_type": "code",
      "metadata": {
        "id": "I4uPHM8lFLIk"
      },
      "source": [
        "q_ids = []\r\n",
        "with open('questions_data.csv', 'w', newline='') as file:\r\n",
        "    writer = csv.writer(file)\r\n",
        "    writer.writerow(['id', 'title', 'body', 'tags', 'score', 'accepted_answer_id', 'answer_count'])\r\n",
        "    for row in rows:\r\n",
        "      qid = row.id\r\n",
        "      q_ids.append(str(qid))\r\n",
        "      writer.writerow([qid, row.title, row.body, row.tags, row.score, row.accepted_answer_id, row.answer_count])"
      ],
      "execution_count": 15,
      "outputs": []
    },
    {
      "cell_type": "code",
      "metadata": {
        "colab": {
          "base_uri": "https://localhost:8080/"
        },
        "id": "WM-nTU9abIfG",
        "outputId": "edf8d6ba-3980-46e6-d801-14a5ee4e47ab"
      },
      "source": [
        "print(\"number of question: \" + str(len(q_ids)))"
      ],
      "execution_count": 16,
      "outputs": [
        {
          "output_type": "stream",
          "text": [
            "number of question: 300000\n"
          ],
          "name": "stdout"
        }
      ]
    },
    {
      "cell_type": "markdown",
      "metadata": {
        "id": "nxpUEk2Bj5k9"
      },
      "source": [
        "## Building corresponding answers dataset"
      ]
    },
    {
      "cell_type": "code",
      "metadata": {
        "colab": {
          "base_uri": "https://localhost:8080/"
        },
        "id": "G-xFFuvxH3EF",
        "outputId": "b2dc8779-73dc-415f-e308-c59d2fc623ef"
      },
      "source": [
        "full_answers.schema"
      ],
      "execution_count": 17,
      "outputs": [
        {
          "output_type": "execute_result",
          "data": {
            "text/plain": [
              "[SchemaField('id', 'INTEGER', 'NULLABLE', None, ()),\n",
              " SchemaField('title', 'STRING', 'NULLABLE', None, ()),\n",
              " SchemaField('body', 'STRING', 'NULLABLE', None, ()),\n",
              " SchemaField('accepted_answer_id', 'STRING', 'NULLABLE', None, ()),\n",
              " SchemaField('answer_count', 'STRING', 'NULLABLE', None, ()),\n",
              " SchemaField('comment_count', 'INTEGER', 'NULLABLE', None, ()),\n",
              " SchemaField('community_owned_date', 'TIMESTAMP', 'NULLABLE', None, ()),\n",
              " SchemaField('creation_date', 'TIMESTAMP', 'NULLABLE', None, ()),\n",
              " SchemaField('favorite_count', 'STRING', 'NULLABLE', None, ()),\n",
              " SchemaField('last_activity_date', 'TIMESTAMP', 'NULLABLE', None, ()),\n",
              " SchemaField('last_edit_date', 'TIMESTAMP', 'NULLABLE', None, ()),\n",
              " SchemaField('last_editor_display_name', 'STRING', 'NULLABLE', None, ()),\n",
              " SchemaField('last_editor_user_id', 'INTEGER', 'NULLABLE', None, ()),\n",
              " SchemaField('owner_display_name', 'STRING', 'NULLABLE', None, ()),\n",
              " SchemaField('owner_user_id', 'INTEGER', 'NULLABLE', None, ()),\n",
              " SchemaField('parent_id', 'INTEGER', 'NULLABLE', None, ()),\n",
              " SchemaField('post_type_id', 'INTEGER', 'NULLABLE', None, ()),\n",
              " SchemaField('score', 'INTEGER', 'NULLABLE', None, ()),\n",
              " SchemaField('tags', 'STRING', 'NULLABLE', None, ()),\n",
              " SchemaField('view_count', 'STRING', 'NULLABLE', None, ())]"
            ]
          },
          "metadata": {
            "tags": []
          },
          "execution_count": 17
        }
      ]
    },
    {
      "cell_type": "code",
      "metadata": {
        "id": "wVYXuOE9O4xs"
      },
      "source": [
        "# query more than 1024k characters is not supported, so broken it into 20 parts\r\n",
        "\r\n",
        "def get_qids_str(start):\r\n",
        "  q_ids_list = \", \".join((q_ids[start: start+10000]))\r\n",
        "  return \"(\" + q_ids_list + \")\""
      ],
      "execution_count": 18,
      "outputs": []
    },
    {
      "cell_type": "code",
      "metadata": {
        "id": "YE_OsAQXZCFS"
      },
      "source": [
        "def get_rows(qids_list):\r\n",
        "  QUERY_ANSWERS = \"\"\"\r\n",
        "  SELECT \r\n",
        "    a.id,\r\n",
        "    a.parent_id,\r\n",
        "    a.body, \r\n",
        "    a.score\r\n",
        "  FROM `bigquery-public-data.stackoverflow.posts_answers` AS a \r\n",
        "  WHERE a.parent_id IN {}\r\n",
        "  \"\"\".format(qids_list)\r\n",
        "\r\n",
        "  data_query = client.query(QUERY_ANSWERS)\r\n",
        "  return data_query.result()"
      ],
      "execution_count": 19,
      "outputs": []
    },
    {
      "cell_type": "code",
      "metadata": {
        "id": "l6EWoUHzTXkz"
      },
      "source": [
        "with open('answers_data.csv', 'w', newline='') as file:\r\n",
        "    writer = csv.writer(file)\r\n",
        "    writer.writerow(['id', 'parent_id', 'body', 'tags', 'score'])\r\n",
        "    for i in range(0, 200000, 10000):\r\n",
        "      rows = get_rows(get_qids_str(i))\r\n",
        "      # print(rows.total_rows)\r\n",
        "      for row in rows:\r\n",
        "        writer.writerow([row.id, row.parent_id, row.body, row.score])"
      ],
      "execution_count": 20,
      "outputs": []
    },
    {
      "cell_type": "markdown",
      "metadata": {
        "id": "2tolCE6rkPWn"
      },
      "source": [
        "## Checking the built datasets"
      ]
    },
    {
      "cell_type": "code",
      "metadata": {
        "id": "tGEz9VKugt3_"
      },
      "source": [
        "import pandas as pd"
      ],
      "execution_count": 21,
      "outputs": []
    },
    {
      "cell_type": "code",
      "metadata": {
        "id": "AncQGKHVgwPm"
      },
      "source": [
        "dataset_questions = pd.read_csv('questions_data.csv')"
      ],
      "execution_count": 22,
      "outputs": []
    },
    {
      "cell_type": "code",
      "metadata": {
        "colab": {
          "base_uri": "https://localhost:8080/",
          "height": 586
        },
        "id": "Rvb8YZ1wg4FJ",
        "outputId": "d1d703aa-af9a-4561-de01-4b126467c67d"
      },
      "source": [
        "dataset_questions"
      ],
      "execution_count": 23,
      "outputs": [
        {
          "output_type": "execute_result",
          "data": {
            "text/html": [
              "<div>\n",
              "<style scoped>\n",
              "    .dataframe tbody tr th:only-of-type {\n",
              "        vertical-align: middle;\n",
              "    }\n",
              "\n",
              "    .dataframe tbody tr th {\n",
              "        vertical-align: top;\n",
              "    }\n",
              "\n",
              "    .dataframe thead th {\n",
              "        text-align: right;\n",
              "    }\n",
              "</style>\n",
              "<table border=\"1\" class=\"dataframe\">\n",
              "  <thead>\n",
              "    <tr style=\"text-align: right;\">\n",
              "      <th></th>\n",
              "      <th>id</th>\n",
              "      <th>title</th>\n",
              "      <th>body</th>\n",
              "      <th>tags</th>\n",
              "      <th>score</th>\n",
              "      <th>accepted_answer_id</th>\n",
              "      <th>answer_count</th>\n",
              "    </tr>\n",
              "  </thead>\n",
              "  <tbody>\n",
              "    <tr>\n",
              "      <th>0</th>\n",
              "      <td>101268</td>\n",
              "      <td>Hidden features of Python</td>\n",
              "      <td>&lt;p&gt;What are the lesser-known but useful featur...</td>\n",
              "      <td>python|hidden-features</td>\n",
              "      <td>1418</td>\n",
              "      <td>NaN</td>\n",
              "      <td>191</td>\n",
              "    </tr>\n",
              "    <tr>\n",
              "      <th>1</th>\n",
              "      <td>3088</td>\n",
              "      <td>Best ways to teach a beginner to program?</td>\n",
              "      <td>&lt;p&gt;&lt;strong&gt;Original Question&lt;/strong&gt;&lt;/p&gt;\\n\\n&lt;...</td>\n",
              "      <td>python|language-agnostic</td>\n",
              "      <td>324</td>\n",
              "      <td>NaN</td>\n",
              "      <td>86</td>\n",
              "    </tr>\n",
              "    <tr>\n",
              "      <th>2</th>\n",
              "      <td>312443</td>\n",
              "      <td>How do you split a list into evenly sized chunks?</td>\n",
              "      <td>&lt;p&gt;I have a list of arbitrary length, and I ne...</td>\n",
              "      <td>python|list|split|chunks</td>\n",
              "      <td>2409</td>\n",
              "      <td>312464.0</td>\n",
              "      <td>64</td>\n",
              "    </tr>\n",
              "    <tr>\n",
              "      <th>3</th>\n",
              "      <td>89228</td>\n",
              "      <td>How to call an external command?</td>\n",
              "      <td>&lt;p&gt;How do you call an external command (as if ...</td>\n",
              "      <td>python|shell|terminal|subprocess|command</td>\n",
              "      <td>5096</td>\n",
              "      <td>89243.0</td>\n",
              "      <td>62</td>\n",
              "    </tr>\n",
              "    <tr>\n",
              "      <th>4</th>\n",
              "      <td>550632</td>\n",
              "      <td>Favorite Django Tips &amp; Features?</td>\n",
              "      <td>&lt;p&gt;Inspired by the question series 'Hidden fea...</td>\n",
              "      <td>python|django|hidden-features</td>\n",
              "      <td>308</td>\n",
              "      <td>NaN</td>\n",
              "      <td>55</td>\n",
              "    </tr>\n",
              "    <tr>\n",
              "      <th>...</th>\n",
              "      <td>...</td>\n",
              "      <td>...</td>\n",
              "      <td>...</td>\n",
              "      <td>...</td>\n",
              "      <td>...</td>\n",
              "      <td>...</td>\n",
              "      <td>...</td>\n",
              "    </tr>\n",
              "    <tr>\n",
              "      <th>299995</th>\n",
              "      <td>64932738</td>\n",
              "      <td>CNN in Pytorch: labels for a custom dataset</td>\n",
              "      <td>&lt;p&gt;I have a very basic question that would be ...</td>\n",
              "      <td>python|deep-learning|pytorch|cnn</td>\n",
              "      <td>0</td>\n",
              "      <td>64940473.0</td>\n",
              "      <td>2</td>\n",
              "    </tr>\n",
              "    <tr>\n",
              "      <th>299996</th>\n",
              "      <td>4413763</td>\n",
              "      <td>Python in java, is it possible</td>\n",
              "      <td>&lt;p&gt;I have a class that is written in Java.&lt;br&gt;...</td>\n",
              "      <td>java|python</td>\n",
              "      <td>0</td>\n",
              "      <td>4413778.0</td>\n",
              "      <td>2</td>\n",
              "    </tr>\n",
              "    <tr>\n",
              "      <th>299997</th>\n",
              "      <td>60490366</td>\n",
              "      <td>TypeError: string indices must be integers wit...</td>\n",
              "      <td>&lt;p&gt;I want to compare 2 dataframe rows to eacho...</td>\n",
              "      <td>python|pandas|dataframe</td>\n",
              "      <td>0</td>\n",
              "      <td>60490449.0</td>\n",
              "      <td>2</td>\n",
              "    </tr>\n",
              "    <tr>\n",
              "      <th>299998</th>\n",
              "      <td>4413798</td>\n",
              "      <td>python restart the program after running a method</td>\n",
              "      <td>&lt;p&gt;A noob question I'm sure.\\nFor example, say...</td>\n",
              "      <td>python</td>\n",
              "      <td>0</td>\n",
              "      <td>4413827.0</td>\n",
              "      <td>2</td>\n",
              "    </tr>\n",
              "    <tr>\n",
              "      <th>299999</th>\n",
              "      <td>64869461</td>\n",
              "      <td>Check if the input is a string in python</td>\n",
              "      <td>&lt;p&gt;I am trying to check if my input is a strin...</td>\n",
              "      <td>python|function|loops|try-catch</td>\n",
              "      <td>0</td>\n",
              "      <td>64880375.0</td>\n",
              "      <td>2</td>\n",
              "    </tr>\n",
              "  </tbody>\n",
              "</table>\n",
              "<p>300000 rows × 7 columns</p>\n",
              "</div>"
            ],
            "text/plain": [
              "              id  ... answer_count\n",
              "0         101268  ...          191\n",
              "1           3088  ...           86\n",
              "2         312443  ...           64\n",
              "3          89228  ...           62\n",
              "4         550632  ...           55\n",
              "...          ...  ...          ...\n",
              "299995  64932738  ...            2\n",
              "299996   4413763  ...            2\n",
              "299997  60490366  ...            2\n",
              "299998   4413798  ...            2\n",
              "299999  64869461  ...            2\n",
              "\n",
              "[300000 rows x 7 columns]"
            ]
          },
          "metadata": {
            "tags": []
          },
          "execution_count": 23
        }
      ]
    },
    {
      "cell_type": "code",
      "metadata": {
        "id": "IDKB9zl1hB-a"
      },
      "source": [
        "dataset_answers = pd.read_csv('answers_data.csv')"
      ],
      "execution_count": 24,
      "outputs": []
    },
    {
      "cell_type": "code",
      "metadata": {
        "colab": {
          "base_uri": "https://localhost:8080/",
          "height": 402
        },
        "id": "G6eXNlyFhRCJ",
        "outputId": "fbbe107d-90d8-4aa3-da9f-705bc75a1caf"
      },
      "source": [
        "dataset_answers"
      ],
      "execution_count": 25,
      "outputs": [
        {
          "output_type": "execute_result",
          "data": {
            "text/html": [
              "<div>\n",
              "<style scoped>\n",
              "    .dataframe tbody tr th:only-of-type {\n",
              "        vertical-align: middle;\n",
              "    }\n",
              "\n",
              "    .dataframe tbody tr th {\n",
              "        vertical-align: top;\n",
              "    }\n",
              "\n",
              "    .dataframe thead th {\n",
              "        text-align: right;\n",
              "    }\n",
              "</style>\n",
              "<table border=\"1\" class=\"dataframe\">\n",
              "  <thead>\n",
              "    <tr style=\"text-align: right;\">\n",
              "      <th></th>\n",
              "      <th>id</th>\n",
              "      <th>parent_id</th>\n",
              "      <th>body</th>\n",
              "      <th>tags</th>\n",
              "      <th>score</th>\n",
              "    </tr>\n",
              "  </thead>\n",
              "  <tbody>\n",
              "    <tr>\n",
              "      <th>0</th>\n",
              "      <td>14803823</td>\n",
              "      <td>279237</td>\n",
              "      <td>&lt;p&gt;The easiest way without any modification to...</td>\n",
              "      <td>23</td>\n",
              "      <td>NaN</td>\n",
              "    </tr>\n",
              "    <tr>\n",
              "      <th>1</th>\n",
              "      <td>15137914</td>\n",
              "      <td>4071396</td>\n",
              "      <td>&lt;p&gt;I came to add:&lt;/p&gt;\\n\\n&lt;p&gt;&lt;code&gt;map(str.stri...</td>\n",
              "      <td>24</td>\n",
              "      <td>NaN</td>\n",
              "    </tr>\n",
              "    <tr>\n",
              "      <th>2</th>\n",
              "      <td>14733488</td>\n",
              "      <td>9577012</td>\n",
              "      <td>&lt;p&gt;What Celery is doing is very much akin to &lt;...</td>\n",
              "      <td>27</td>\n",
              "      <td>NaN</td>\n",
              "    </tr>\n",
              "    <tr>\n",
              "      <th>3</th>\n",
              "      <td>14917111</td>\n",
              "      <td>14917092</td>\n",
              "      <td>&lt;p&gt;You need to use &lt;code&gt;isinstance&lt;/code&gt; to ...</td>\n",
              "      <td>28</td>\n",
              "      <td>NaN</td>\n",
              "    </tr>\n",
              "    <tr>\n",
              "      <th>4</th>\n",
              "      <td>14700501</td>\n",
              "      <td>1720421</td>\n",
              "      <td>&lt;p&gt;It's worth noting that the &lt;code&gt;itertools....</td>\n",
              "      <td>29</td>\n",
              "      <td>NaN</td>\n",
              "    </tr>\n",
              "    <tr>\n",
              "      <th>...</th>\n",
              "      <td>...</td>\n",
              "      <td>...</td>\n",
              "      <td>...</td>\n",
              "      <td>...</td>\n",
              "      <td>...</td>\n",
              "    </tr>\n",
              "    <tr>\n",
              "      <th>810574</th>\n",
              "      <td>46475985</td>\n",
              "      <td>46475777</td>\n",
              "      <td>&lt;p&gt;Use &lt;a href=\"http://www.regular-expressions...</td>\n",
              "      <td>4</td>\n",
              "      <td>NaN</td>\n",
              "    </tr>\n",
              "    <tr>\n",
              "      <th>810575</th>\n",
              "      <td>46621777</td>\n",
              "      <td>46621712</td>\n",
              "      <td>&lt;p&gt;You can use &lt;code&gt;df.loc[_not_yet_existing_...</td>\n",
              "      <td>50</td>\n",
              "      <td>NaN</td>\n",
              "    </tr>\n",
              "    <tr>\n",
              "      <th>810576</th>\n",
              "      <td>46415358</td>\n",
              "      <td>46415260</td>\n",
              "      <td>&lt;p&gt;Sorry if this seems obvious but there's not...</td>\n",
              "      <td>0</td>\n",
              "      <td>NaN</td>\n",
              "    </tr>\n",
              "    <tr>\n",
              "      <th>810577</th>\n",
              "      <td>46704992</td>\n",
              "      <td>46703873</td>\n",
              "      <td>&lt;p&gt;The type of error you are observing seems t...</td>\n",
              "      <td>1</td>\n",
              "      <td>NaN</td>\n",
              "    </tr>\n",
              "    <tr>\n",
              "      <th>810578</th>\n",
              "      <td>46585360</td>\n",
              "      <td>46583775</td>\n",
              "      <td>&lt;p&gt;You will need to specify the PATH variable ...</td>\n",
              "      <td>1</td>\n",
              "      <td>NaN</td>\n",
              "    </tr>\n",
              "  </tbody>\n",
              "</table>\n",
              "<p>810579 rows × 5 columns</p>\n",
              "</div>"
            ],
            "text/plain": [
              "              id  parent_id  ... tags  score\n",
              "0       14803823     279237  ...   23    NaN\n",
              "1       15137914    4071396  ...   24    NaN\n",
              "2       14733488    9577012  ...   27    NaN\n",
              "3       14917111   14917092  ...   28    NaN\n",
              "4       14700501    1720421  ...   29    NaN\n",
              "...          ...        ...  ...  ...    ...\n",
              "810574  46475985   46475777  ...    4    NaN\n",
              "810575  46621777   46621712  ...   50    NaN\n",
              "810576  46415358   46415260  ...    0    NaN\n",
              "810577  46704992   46703873  ...    1    NaN\n",
              "810578  46585360   46583775  ...    1    NaN\n",
              "\n",
              "[810579 rows x 5 columns]"
            ]
          },
          "metadata": {
            "tags": []
          },
          "execution_count": 25
        }
      ]
    }
  ]
}