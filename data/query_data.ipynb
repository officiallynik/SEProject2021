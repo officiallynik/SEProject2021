{
  "nbformat": 4,
  "nbformat_minor": 0,
  "metadata": {
    "colab": {
      "name": "query_data.ipynb",
      "provenance": [],
      "collapsed_sections": [
        "2tolCE6rkPWn"
      ]
    },
    "kernelspec": {
      "name": "python3",
      "display_name": "Python 3"
    }
  },
  "cells": [
    {
      "cell_type": "markdown",
      "metadata": {
        "id": "huS2DfoVjSd-"
      },
      "source": [
        "# Stack Overflow Python Questions/Answers Building "
      ]
    },
    {
      "cell_type": "markdown",
      "metadata": {
        "id": "Sds9uk9-jisY"
      },
      "source": [
        "## Import and check total dataset"
      ]
    },
    {
      "cell_type": "code",
      "metadata": {
        "id": "TRma7BNR0iyf"
      },
      "source": [
        "from google.cloud import bigquery"
      ],
      "execution_count": 1,
      "outputs": []
    },
    {
      "cell_type": "code",
      "metadata": {
        "id": "iuJEc2Im0xBp"
      },
      "source": [
        "import os\r\n",
        "os.environ[\"GOOGLE_APPLICATION_CREDENTIALS\"]=\"config.json\""
      ],
      "execution_count": 2,
      "outputs": []
    },
    {
      "cell_type": "code",
      "metadata": {
        "id": "T7ubnTwv4NDJ"
      },
      "source": [
        "client = bigquery.Client()"
      ],
      "execution_count": 3,
      "outputs": []
    },
    {
      "cell_type": "code",
      "metadata": {
        "id": "-fOnuXtI4rY1"
      },
      "source": [
        "dataset_ref = client.dataset('stackoverflow', project='bigquery-public-data')"
      ],
      "execution_count": 4,
      "outputs": []
    },
    {
      "cell_type": "code",
      "metadata": {
        "colab": {
          "base_uri": "https://localhost:8080/"
        },
        "id": "MqVycibz41-g",
        "outputId": "8c19fa8d-004d-4d53-8b43-dd2398ed521c"
      },
      "source": [
        "type(dataset_ref)"
      ],
      "execution_count": 5,
      "outputs": [
        {
          "output_type": "execute_result",
          "data": {
            "text/plain": [
              "google.cloud.bigquery.dataset.DatasetReference"
            ]
          },
          "metadata": {
            "tags": []
          },
          "execution_count": 5
        }
      ]
    },
    {
      "cell_type": "code",
      "metadata": {
        "id": "cHitI4LS49Hn"
      },
      "source": [
        "dset = client.get_dataset(dataset_ref)"
      ],
      "execution_count": 6,
      "outputs": []
    },
    {
      "cell_type": "code",
      "metadata": {
        "colab": {
          "base_uri": "https://localhost:8080/"
        },
        "id": "70v4msyV5Cua",
        "outputId": "86d42f97-7598-446c-d1e2-9b811f8aebba"
      },
      "source": [
        "type(dset)"
      ],
      "execution_count": 7,
      "outputs": [
        {
          "output_type": "execute_result",
          "data": {
            "text/plain": [
              "google.cloud.bigquery.dataset.Dataset"
            ]
          },
          "metadata": {
            "tags": []
          },
          "execution_count": 7
        }
      ]
    },
    {
      "cell_type": "code",
      "metadata": {
        "colab": {
          "base_uri": "https://localhost:8080/"
        },
        "id": "fDtLssAO5pEZ",
        "outputId": "fab72642-179d-449f-f4d0-55843dc439fe"
      },
      "source": [
        "[x.table_id for x in client.list_tables(dset)]"
      ],
      "execution_count": 8,
      "outputs": [
        {
          "output_type": "execute_result",
          "data": {
            "text/plain": [
              "['badges',\n",
              " 'comments',\n",
              " 'post_history',\n",
              " 'post_links',\n",
              " 'posts_answers',\n",
              " 'posts_moderator_nomination',\n",
              " 'posts_orphaned_tag_wiki',\n",
              " 'posts_privilege_wiki',\n",
              " 'posts_questions',\n",
              " 'posts_tag_wiki',\n",
              " 'posts_tag_wiki_excerpt',\n",
              " 'posts_wiki_placeholder',\n",
              " 'stackoverflow_posts',\n",
              " 'tags',\n",
              " 'users',\n",
              " 'votes']"
            ]
          },
          "metadata": {
            "tags": []
          },
          "execution_count": 8
        }
      ]
    },
    {
      "cell_type": "code",
      "metadata": {
        "id": "AL-5aDFj5uJi"
      },
      "source": [
        "full_questions = client.get_table(dset.table('posts_questions'))"
      ],
      "execution_count": 9,
      "outputs": []
    },
    {
      "cell_type": "code",
      "metadata": {
        "id": "LvqccpWy66m3"
      },
      "source": [
        "full_answers = client.get_table(dset.table('posts_answers'))"
      ],
      "execution_count": 10,
      "outputs": []
    },
    {
      "cell_type": "markdown",
      "metadata": {
        "id": "xWZP_PLBjup3"
      },
      "source": [
        "## Building questions dataset"
      ]
    },
    {
      "cell_type": "code",
      "metadata": {
        "colab": {
          "base_uri": "https://localhost:8080/"
        },
        "id": "0z1g5Wm_-uaX",
        "outputId": "10c96cac-54f1-4af7-d0d7-2bf94342eefe"
      },
      "source": [
        "full_questions.schema"
      ],
      "execution_count": 11,
      "outputs": [
        {
          "output_type": "execute_result",
          "data": {
            "text/plain": [
              "[SchemaField('id', 'INTEGER', 'NULLABLE', None, (), None),\n",
              " SchemaField('title', 'STRING', 'NULLABLE', None, (), None),\n",
              " SchemaField('body', 'STRING', 'NULLABLE', None, (), None),\n",
              " SchemaField('accepted_answer_id', 'INTEGER', 'NULLABLE', None, (), None),\n",
              " SchemaField('answer_count', 'INTEGER', 'NULLABLE', None, (), None),\n",
              " SchemaField('comment_count', 'INTEGER', 'NULLABLE', None, (), None),\n",
              " SchemaField('community_owned_date', 'TIMESTAMP', 'NULLABLE', None, (), None),\n",
              " SchemaField('creation_date', 'TIMESTAMP', 'NULLABLE', None, (), None),\n",
              " SchemaField('favorite_count', 'INTEGER', 'NULLABLE', None, (), None),\n",
              " SchemaField('last_activity_date', 'TIMESTAMP', 'NULLABLE', None, (), None),\n",
              " SchemaField('last_edit_date', 'TIMESTAMP', 'NULLABLE', None, (), None),\n",
              " SchemaField('last_editor_display_name', 'STRING', 'NULLABLE', None, (), None),\n",
              " SchemaField('last_editor_user_id', 'INTEGER', 'NULLABLE', None, (), None),\n",
              " SchemaField('owner_display_name', 'STRING', 'NULLABLE', None, (), None),\n",
              " SchemaField('owner_user_id', 'INTEGER', 'NULLABLE', None, (), None),\n",
              " SchemaField('parent_id', 'STRING', 'NULLABLE', None, (), None),\n",
              " SchemaField('post_type_id', 'INTEGER', 'NULLABLE', None, (), None),\n",
              " SchemaField('score', 'INTEGER', 'NULLABLE', None, (), None),\n",
              " SchemaField('tags', 'STRING', 'NULLABLE', None, (), None),\n",
              " SchemaField('view_count', 'INTEGER', 'NULLABLE', None, (), None)]"
            ]
          },
          "metadata": {
            "tags": []
          },
          "execution_count": 11
        }
      ]
    },
    {
      "cell_type": "code",
      "metadata": {
        "id": "i_k1K1-o9hop"
      },
      "source": [
        "QUERY_QUESTIONS = \"\"\"\r\n",
        "SELECT \r\n",
        "  q.id, \r\n",
        "  q.title, \r\n",
        "  q.body, \r\n",
        "  q.tags,\r\n",
        "  q.score,\r\n",
        "  q.accepted_answer_id,\r\n",
        "  q.answer_count\r\n",
        "FROM `bigquery-public-data.stackoverflow.posts_questions` AS q  \r\n",
        "WHERE q.tags LIKE '%python%' AND q.answer_count >= 3\r\n",
        "LIMIT 200000\r\n",
        "\"\"\"\r\n",
        "\r\n",
        "data_query = client.query(QUERY_QUESTIONS)\r\n",
        "rows = data_query.result()"
      ],
      "execution_count": 12,
      "outputs": []
    },
    {
      "cell_type": "code",
      "metadata": {
        "id": "ZPEN-guLZZQ-"
      },
      "source": [
        "! rm questions_data.csv answers_data.csv"
      ],
      "execution_count": 13,
      "outputs": []
    },
    {
      "cell_type": "code",
      "metadata": {
        "id": "REv7kHrhBriL"
      },
      "source": [
        "import csv"
      ],
      "execution_count": 14,
      "outputs": []
    },
    {
      "cell_type": "code",
      "metadata": {
        "id": "I4uPHM8lFLIk"
      },
      "source": [
        "q_ids = []\r\n",
        "with open('questions_data.csv', 'w', newline='') as file:\r\n",
        "    writer = csv.writer(file)\r\n",
        "    writer.writerow(['id', 'title', 'body', 'tags', 'score', 'accepted_answer_id', 'answer_count'])\r\n",
        "    for row in rows:\r\n",
        "      qid = row.id\r\n",
        "      q_ids.append(str(qid))\r\n",
        "      writer.writerow([qid, row.title, row.body, row.tags, row.score, row.accepted_answer_id, row.answer_count])"
      ],
      "execution_count": 15,
      "outputs": []
    },
    {
      "cell_type": "code",
      "metadata": {
        "colab": {
          "base_uri": "https://localhost:8080/"
        },
        "id": "WM-nTU9abIfG",
        "outputId": "7bc1dcd3-223a-4aaa-eec6-ff559253978a"
      },
      "source": [
        "print(\"number of question: \" + str(len(q_ids)))"
      ],
      "execution_count": 37,
      "outputs": [
        {
          "output_type": "stream",
          "text": [
            "number of question: 200000\n"
          ],
          "name": "stdout"
        }
      ]
    },
    {
      "cell_type": "markdown",
      "metadata": {
        "id": "nxpUEk2Bj5k9"
      },
      "source": [
        "## Building corresponding answers dataset"
      ]
    },
    {
      "cell_type": "code",
      "metadata": {
        "colab": {
          "base_uri": "https://localhost:8080/"
        },
        "id": "G-xFFuvxH3EF",
        "outputId": "4dea57ed-cedb-48a7-b4e5-af6d509e26b0"
      },
      "source": [
        "full_answers.schema"
      ],
      "execution_count": 17,
      "outputs": [
        {
          "output_type": "execute_result",
          "data": {
            "text/plain": [
              "[SchemaField('id', 'INTEGER', 'NULLABLE', None, (), None),\n",
              " SchemaField('title', 'STRING', 'NULLABLE', None, (), None),\n",
              " SchemaField('body', 'STRING', 'NULLABLE', None, (), None),\n",
              " SchemaField('accepted_answer_id', 'STRING', 'NULLABLE', None, (), None),\n",
              " SchemaField('answer_count', 'STRING', 'NULLABLE', None, (), None),\n",
              " SchemaField('comment_count', 'INTEGER', 'NULLABLE', None, (), None),\n",
              " SchemaField('community_owned_date', 'TIMESTAMP', 'NULLABLE', None, (), None),\n",
              " SchemaField('creation_date', 'TIMESTAMP', 'NULLABLE', None, (), None),\n",
              " SchemaField('favorite_count', 'STRING', 'NULLABLE', None, (), None),\n",
              " SchemaField('last_activity_date', 'TIMESTAMP', 'NULLABLE', None, (), None),\n",
              " SchemaField('last_edit_date', 'TIMESTAMP', 'NULLABLE', None, (), None),\n",
              " SchemaField('last_editor_display_name', 'STRING', 'NULLABLE', None, (), None),\n",
              " SchemaField('last_editor_user_id', 'INTEGER', 'NULLABLE', None, (), None),\n",
              " SchemaField('owner_display_name', 'STRING', 'NULLABLE', None, (), None),\n",
              " SchemaField('owner_user_id', 'INTEGER', 'NULLABLE', None, (), None),\n",
              " SchemaField('parent_id', 'INTEGER', 'NULLABLE', None, (), None),\n",
              " SchemaField('post_type_id', 'INTEGER', 'NULLABLE', None, (), None),\n",
              " SchemaField('score', 'INTEGER', 'NULLABLE', None, (), None),\n",
              " SchemaField('tags', 'STRING', 'NULLABLE', None, (), None),\n",
              " SchemaField('view_count', 'STRING', 'NULLABLE', None, (), None)]"
            ]
          },
          "metadata": {
            "tags": []
          },
          "execution_count": 17
        }
      ]
    },
    {
      "cell_type": "code",
      "metadata": {
        "id": "wVYXuOE9O4xs"
      },
      "source": [
        "# query more than 1024k characters is not supported, so broken it into 20 parts\r\n",
        "\r\n",
        "def get_qids_str(start):\r\n",
        "  q_ids_list = \", \".join((q_ids[start: start+10000]))\r\n",
        "  return \"(\" + q_ids_list + \")\""
      ],
      "execution_count": 29,
      "outputs": []
    },
    {
      "cell_type": "code",
      "metadata": {
        "id": "YE_OsAQXZCFS"
      },
      "source": [
        "def get_rows(qids_list):\r\n",
        "  QUERY_ANSWERS = \"\"\"\r\n",
        "  SELECT \r\n",
        "    a.id,\r\n",
        "    a.parent_id,\r\n",
        "    a.body, \r\n",
        "    a.score\r\n",
        "  FROM `bigquery-public-data.stackoverflow.posts_answers` AS a \r\n",
        "  WHERE a.parent_id IN {}\r\n",
        "  \"\"\".format(qids_list)\r\n",
        "\r\n",
        "  data_query = client.query(QUERY_ANSWERS)\r\n",
        "  return data_query.result()"
      ],
      "execution_count": 30,
      "outputs": []
    },
    {
      "cell_type": "code",
      "metadata": {
        "id": "l6EWoUHzTXkz"
      },
      "source": [
        "with open('answers_data.csv', 'w', newline='') as file:\r\n",
        "    writer = csv.writer(file)\r\n",
        "    writer.writerow(['id', 'parent_id', 'body', 'tags', 'score'])\r\n",
        "    for i in range(0, 200000, 10000):\r\n",
        "      rows = get_rows(get_qids_str(i))\r\n",
        "      // print(rows.total_rows)\r\n",
        "      for row in rows:\r\n",
        "        writer.writerow([row.id, row.parent_id, row.body, row.score])"
      ],
      "execution_count": null,
      "outputs": []
    },
    {
      "cell_type": "markdown",
      "metadata": {
        "id": "2tolCE6rkPWn"
      },
      "source": [
        "## Checking the built datasets"
      ]
    },
    {
      "cell_type": "code",
      "metadata": {
        "id": "tGEz9VKugt3_"
      },
      "source": [
        "import pandas as pd"
      ],
      "execution_count": 38,
      "outputs": []
    },
    {
      "cell_type": "code",
      "metadata": {
        "id": "AncQGKHVgwPm"
      },
      "source": [
        "dataset_questions = pd.read_csv('questions_data.csv')"
      ],
      "execution_count": 39,
      "outputs": []
    },
    {
      "cell_type": "code",
      "metadata": {
        "colab": {
          "base_uri": "https://localhost:8080/",
          "height": 570
        },
        "id": "Rvb8YZ1wg4FJ",
        "outputId": "9b867b9f-8f20-4c25-c07a-43dc40779660"
      },
      "source": [
        "dataset_questions"
      ],
      "execution_count": 40,
      "outputs": [
        {
          "output_type": "execute_result",
          "data": {
            "text/html": [
              "<div>\n",
              "<style scoped>\n",
              "    .dataframe tbody tr th:only-of-type {\n",
              "        vertical-align: middle;\n",
              "    }\n",
              "\n",
              "    .dataframe tbody tr th {\n",
              "        vertical-align: top;\n",
              "    }\n",
              "\n",
              "    .dataframe thead th {\n",
              "        text-align: right;\n",
              "    }\n",
              "</style>\n",
              "<table border=\"1\" class=\"dataframe\">\n",
              "  <thead>\n",
              "    <tr style=\"text-align: right;\">\n",
              "      <th></th>\n",
              "      <th>id</th>\n",
              "      <th>title</th>\n",
              "      <th>body</th>\n",
              "      <th>tags</th>\n",
              "      <th>score</th>\n",
              "      <th>accepted_answer_id</th>\n",
              "      <th>answer_count</th>\n",
              "    </tr>\n",
              "  </thead>\n",
              "  <tbody>\n",
              "    <tr>\n",
              "      <th>0</th>\n",
              "      <td>17605659</td>\n",
              "      <td>Why does it take longer to import a function f...</td>\n",
              "      <td>&lt;p&gt;Consider:&lt;/p&gt;\\n\\n&lt;pre&gt;&lt;code&gt;&amp;gt;&amp;gt;&amp;gt; ti...</td>\n",
              "      <td>python|performance|python-import|python-internals</td>\n",
              "      <td>25</td>\n",
              "      <td>17605700.0</td>\n",
              "      <td>3</td>\n",
              "    </tr>\n",
              "    <tr>\n",
              "      <th>1</th>\n",
              "      <td>17244049</td>\n",
              "      <td>Finding label location in a DataFrame Index</td>\n",
              "      <td>&lt;p&gt;I have a pandas dataframe:&lt;/p&gt;\\n\\n&lt;pre&gt;&lt;cod...</td>\n",
              "      <td>python|pandas</td>\n",
              "      <td>17</td>\n",
              "      <td>17244095.0</td>\n",
              "      <td>3</td>\n",
              "    </tr>\n",
              "    <tr>\n",
              "      <th>2</th>\n",
              "      <td>17220308</td>\n",
              "      <td>how to find all ip addresses between 2 ip addr...</td>\n",
              "      <td>&lt;p&gt;Can anyone think of an algorithm to put all...</td>\n",
              "      <td>python|ipv4</td>\n",
              "      <td>-5</td>\n",
              "      <td>17220389.0</td>\n",
              "      <td>3</td>\n",
              "    </tr>\n",
              "    <tr>\n",
              "      <th>3</th>\n",
              "      <td>17295086</td>\n",
              "      <td>Python joining current directory and parent di...</td>\n",
              "      <td>&lt;p&gt;I want to do join the current directory pat...</td>\n",
              "      <td>python|os.path</td>\n",
              "      <td>29</td>\n",
              "      <td>58559790.0</td>\n",
              "      <td>3</td>\n",
              "    </tr>\n",
              "    <tr>\n",
              "      <th>4</th>\n",
              "      <td>17170752</td>\n",
              "      <td>Python OpenCV load image from byte string</td>\n",
              "      <td>&lt;p&gt;I'm trying to load image from string like a...</td>\n",
              "      <td>python|image|opencv|byte</td>\n",
              "      <td>41</td>\n",
              "      <td>17170855.0</td>\n",
              "      <td>3</td>\n",
              "    </tr>\n",
              "    <tr>\n",
              "      <th>...</th>\n",
              "      <td>...</td>\n",
              "      <td>...</td>\n",
              "      <td>...</td>\n",
              "      <td>...</td>\n",
              "      <td>...</td>\n",
              "      <td>...</td>\n",
              "      <td>...</td>\n",
              "    </tr>\n",
              "    <tr>\n",
              "      <th>199995</th>\n",
              "      <td>61698471</td>\n",
              "      <td>Reguler Expresion in python</td>\n",
              "      <td>&lt;p&gt;I have this text:&lt;/p&gt;\\n\\n&lt;pre&gt;&lt;code&gt;DIAGNOS...</td>\n",
              "      <td>python|regex</td>\n",
              "      <td>-1</td>\n",
              "      <td>61698537.0</td>\n",
              "      <td>3</td>\n",
              "    </tr>\n",
              "    <tr>\n",
              "      <th>199996</th>\n",
              "      <td>61697471</td>\n",
              "      <td>How to sort multiple list in python</td>\n",
              "      <td>&lt;p&gt;I am trying to sort multiple lists based on...</td>\n",
              "      <td>python|python-3.x|sorting</td>\n",
              "      <td>-1</td>\n",
              "      <td>61698929.0</td>\n",
              "      <td>4</td>\n",
              "    </tr>\n",
              "    <tr>\n",
              "      <th>199997</th>\n",
              "      <td>61823204</td>\n",
              "      <td>Python: How to store multiple values for one key</td>\n",
              "      <td>&lt;p&gt;I am new to Python… I have set of lookup ke...</td>\n",
              "      <td>python</td>\n",
              "      <td>-1</td>\n",
              "      <td>61824759.0</td>\n",
              "      <td>3</td>\n",
              "    </tr>\n",
              "    <tr>\n",
              "      <th>199998</th>\n",
              "      <td>61657099</td>\n",
              "      <td>How to call a group of functions</td>\n",
              "      <td>&lt;p&gt;I don't know how to do it so that the resul...</td>\n",
              "      <td>python|function|tkinter</td>\n",
              "      <td>-1</td>\n",
              "      <td>61657427.0</td>\n",
              "      <td>3</td>\n",
              "    </tr>\n",
              "    <tr>\n",
              "      <th>199999</th>\n",
              "      <td>61745917</td>\n",
              "      <td>How can I fix the error with __repr__ in python?</td>\n",
              "      <td>&lt;p&gt;I wanna create a function to generate a pol...</td>\n",
              "      <td>python|class|repr</td>\n",
              "      <td>-1</td>\n",
              "      <td>NaN</td>\n",
              "      <td>4</td>\n",
              "    </tr>\n",
              "  </tbody>\n",
              "</table>\n",
              "<p>200000 rows × 7 columns</p>\n",
              "</div>"
            ],
            "text/plain": [
              "              id  ... answer_count\n",
              "0       17605659  ...            3\n",
              "1       17244049  ...            3\n",
              "2       17220308  ...            3\n",
              "3       17295086  ...            3\n",
              "4       17170752  ...            3\n",
              "...          ...  ...          ...\n",
              "199995  61698471  ...            3\n",
              "199996  61697471  ...            4\n",
              "199997  61823204  ...            3\n",
              "199998  61657099  ...            3\n",
              "199999  61745917  ...            4\n",
              "\n",
              "[200000 rows x 7 columns]"
            ]
          },
          "metadata": {
            "tags": []
          },
          "execution_count": 40
        }
      ]
    },
    {
      "cell_type": "code",
      "metadata": {
        "id": "IDKB9zl1hB-a"
      },
      "source": [
        "dataset_answers = pd.read_csv('answers_data.csv')"
      ],
      "execution_count": 41,
      "outputs": []
    },
    {
      "cell_type": "code",
      "metadata": {
        "colab": {
          "base_uri": "https://localhost:8080/",
          "height": 402
        },
        "id": "G6eXNlyFhRCJ",
        "outputId": "ba0580f6-6b1a-4c45-b647-8c7f922e07bb"
      },
      "source": [
        "dataset_answers"
      ],
      "execution_count": 42,
      "outputs": [
        {
          "output_type": "execute_result",
          "data": {
            "text/html": [
              "<div>\n",
              "<style scoped>\n",
              "    .dataframe tbody tr th:only-of-type {\n",
              "        vertical-align: middle;\n",
              "    }\n",
              "\n",
              "    .dataframe tbody tr th {\n",
              "        vertical-align: top;\n",
              "    }\n",
              "\n",
              "    .dataframe thead th {\n",
              "        text-align: right;\n",
              "    }\n",
              "</style>\n",
              "<table border=\"1\" class=\"dataframe\">\n",
              "  <thead>\n",
              "    <tr style=\"text-align: right;\">\n",
              "      <th></th>\n",
              "      <th>id</th>\n",
              "      <th>parent_id</th>\n",
              "      <th>body</th>\n",
              "      <th>tags</th>\n",
              "      <th>score</th>\n",
              "    </tr>\n",
              "  </thead>\n",
              "  <tbody>\n",
              "    <tr>\n",
              "      <th>0</th>\n",
              "      <td>12523376</td>\n",
              "      <td>4830856</td>\n",
              "      <td>&lt;p&gt;It also works with &lt;a href=\"http://en.wikip...</td>\n",
              "      <td>33</td>\n",
              "      <td>NaN</td>\n",
              "    </tr>\n",
              "    <tr>\n",
              "      <th>1</th>\n",
              "      <td>12647556</td>\n",
              "      <td>12647471</td>\n",
              "      <td>&lt;p&gt;As I told you in a comment to a previous an...</td>\n",
              "      <td>34</td>\n",
              "      <td>NaN</td>\n",
              "    </tr>\n",
              "    <tr>\n",
              "      <th>2</th>\n",
              "      <td>12064662</td>\n",
              "      <td>2965271</td>\n",
              "      <td>&lt;p&gt;You can force people to use keyword argumen...</td>\n",
              "      <td>37</td>\n",
              "      <td>NaN</td>\n",
              "    </tr>\n",
              "    <tr>\n",
              "      <th>3</th>\n",
              "      <td>12056240</td>\n",
              "      <td>4096506</td>\n",
              "      <td>&lt;p&gt;I had trouble with Paulo's method (see my c...</td>\n",
              "      <td>39</td>\n",
              "      <td>NaN</td>\n",
              "    </tr>\n",
              "    <tr>\n",
              "      <th>4</th>\n",
              "      <td>12588805</td>\n",
              "      <td>1408940</td>\n",
              "      <td>&lt;p&gt;Oraculum has got it right. You shouldn't be...</td>\n",
              "      <td>41</td>\n",
              "      <td>NaN</td>\n",
              "    </tr>\n",
              "    <tr>\n",
              "      <th>...</th>\n",
              "      <td>...</td>\n",
              "      <td>...</td>\n",
              "      <td>...</td>\n",
              "      <td>...</td>\n",
              "      <td>...</td>\n",
              "    </tr>\n",
              "    <tr>\n",
              "      <th>793120</th>\n",
              "      <td>35051301</td>\n",
              "      <td>35050938</td>\n",
              "      <td>&lt;p&gt;You started well. Your code:&lt;/p&gt;\\n\\n&lt;pre&gt;&lt;c...</td>\n",
              "      <td>0</td>\n",
              "      <td>NaN</td>\n",
              "    </tr>\n",
              "    <tr>\n",
              "      <th>793121</th>\n",
              "      <td>35097016</td>\n",
              "      <td>35096817</td>\n",
              "      <td>&lt;p&gt;Here is my solution with recursion. This is...</td>\n",
              "      <td>0</td>\n",
              "      <td>NaN</td>\n",
              "    </tr>\n",
              "    <tr>\n",
              "      <th>793122</th>\n",
              "      <td>35003952</td>\n",
              "      <td>35003905</td>\n",
              "      <td>&lt;p&gt;To answer this directly,&lt;/p&gt;\\n\\n&lt;pre&gt;&lt;code&gt;...</td>\n",
              "      <td>0</td>\n",
              "      <td>NaN</td>\n",
              "    </tr>\n",
              "    <tr>\n",
              "      <th>793123</th>\n",
              "      <td>35023707</td>\n",
              "      <td>35023651</td>\n",
              "      <td>&lt;p&gt;how about:&lt;/p&gt;\\n\\n&lt;pre&gt;&lt;code&gt;text = \"AANGCT...</td>\n",
              "      <td>0</td>\n",
              "      <td>NaN</td>\n",
              "    </tr>\n",
              "    <tr>\n",
              "      <th>793124</th>\n",
              "      <td>34756588</td>\n",
              "      <td>34756456</td>\n",
              "      <td>&lt;p&gt;If you're just practicing AJAX, your approa...</td>\n",
              "      <td>1</td>\n",
              "      <td>NaN</td>\n",
              "    </tr>\n",
              "  </tbody>\n",
              "</table>\n",
              "<p>793125 rows × 5 columns</p>\n",
              "</div>"
            ],
            "text/plain": [
              "              id  parent_id  ... tags  score\n",
              "0       12523376    4830856  ...   33    NaN\n",
              "1       12647556   12647471  ...   34    NaN\n",
              "2       12064662    2965271  ...   37    NaN\n",
              "3       12056240    4096506  ...   39    NaN\n",
              "4       12588805    1408940  ...   41    NaN\n",
              "...          ...        ...  ...  ...    ...\n",
              "793120  35051301   35050938  ...    0    NaN\n",
              "793121  35097016   35096817  ...    0    NaN\n",
              "793122  35003952   35003905  ...    0    NaN\n",
              "793123  35023707   35023651  ...    0    NaN\n",
              "793124  34756588   34756456  ...    1    NaN\n",
              "\n",
              "[793125 rows x 5 columns]"
            ]
          },
          "metadata": {
            "tags": []
          },
          "execution_count": 42
        }
      ]
    }
  ]
}